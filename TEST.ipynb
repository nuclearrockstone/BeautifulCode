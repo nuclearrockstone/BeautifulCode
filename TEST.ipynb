{
 "cells": [
  {
   "cell_type": "code",
   "execution_count": null,
   "metadata": {},
   "outputs": [],
   "source": [
    "code = '''\n",
    "def greet(name):\n",
    "    print(f'Hello, {name}!')\n",
    "greet('World')\n",
    "'''"
   ]
  },
  {
   "cell_type": "code",
   "execution_count": null,
   "metadata": {},
   "outputs": [],
   "source": [
    "def code_count(line_code):\n",
    "    '''\n",
    "    Count the num of line and max line\n",
    "    '''\n",
    "    lines = text.split('\\n')\n",
    "    return True"
   ]
  }
 ],
 "metadata": {
  "language_info": {
   "name": "python"
  }
 },
 "nbformat": 4,
 "nbformat_minor": 2
}

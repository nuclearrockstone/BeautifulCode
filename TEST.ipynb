{
  "cells": [
    {
      "cell_type": "code",
      "execution_count": 1,
      "metadata": {
        "id": "HalrPFvUnaHW"
      },
      "outputs": [],
      "source": [
        "code = '''\n",
        "def greet(name):\n",
        "    print(f'Hello, {name}!')\n",
        "greet('World')\n",
        "'''"
      ]
    },
    {
      "cell_type": "code",
      "execution_count": 2,
      "metadata": {
        "id": "1qaVqOgCnaHX"
      },
      "outputs": [],
      "source": [
        "def code_count(line_code):\n",
        "    '''\n",
        "    Count the num of line and max line\n",
        "    '''\n",
        "    lines = line_code.split('\\n')\n",
        "    return lines"
      ]
    },
    {
      "cell_type": "code",
      "source": [
        "code_count(code)"
      ],
      "metadata": {
        "id": "Ik24X_wWnjkO",
        "outputId": "31373a6a-6a3c-4022-c47e-d3cd92fd0a2f",
        "colab": {
          "base_uri": "https://localhost:8080/"
        }
      },
      "execution_count": 3,
      "outputs": [
        {
          "output_type": "execute_result",
          "data": {
            "text/plain": [
              "['', 'def greet(name):', \"    print(f'Hello, {name}!')\", \"greet('World')\", '']"
            ]
          },
          "metadata": {},
          "execution_count": 3
        }
      ]
    }
  ],
  "metadata": {
    "language_info": {
      "name": "python"
    },
    "colab": {
      "provenance": []
    },
    "kernelspec": {
      "name": "python3",
      "display_name": "Python 3"
    }
  },
  "nbformat": 4,
  "nbformat_minor": 0
}
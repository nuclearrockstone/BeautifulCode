{
  "cells": [
    {
      "cell_type": "code",
      "execution_count": 3,
      "metadata": {
        "id": "HalrPFvUnaHW"
      },
      "outputs": [
        {
          "name": "stdout",
          "output_type": "stream",
          "text": [
            "5\n"
          ]
        }
      ],
      "source": [
        "code = '''\n",
        "def greet(name):\n",
        "    print(f'Hello, {name}!')\n",
        "greet('World')\n",
        "'''\n",
        "def Code_Count(line_code):\n",
        "    '''\n",
        "    Count the num of line and max line\n",
        "    '''\n",
        "    lines = line_code.split('\\n')\n",
        "    return max(len(line) for line in lines),len(lines)\n",
        "\n",
        "print(Code_Count(code)[1])"
      ]
    },
    {
      "cell_type": "code",
      "execution_count": 6,
      "metadata": {
        "colab": {
          "base_uri": "https://localhost:8080/"
        },
        "id": "Ik24X_wWnjkO",
        "outputId": "31373a6a-6a3c-4022-c47e-d3cd92fd0a2f"
      },
      "outputs": [
        {
          "data": {
            "text/plain": [
              "(28,\n",
              " ['',\n",
              "  'def greet(name):',\n",
              "  \"    print(f'Hello, {name}!')\",\n",
              "  \"greet('World')\",\n",
              "  ''])"
            ]
          },
          "execution_count": 6,
          "metadata": {},
          "output_type": "execute_result"
        }
      ],
      "source": [
        "code_count(code)"
      ]
    },
    {
      "cell_type": "code",
      "execution_count": 2,
      "metadata": {},
      "outputs": [],
      "source": [
        "from pygments import highlight\n",
        "from pygments.lexers import PythonLexer\n",
        "from pygments.formatters import TerminalFormatter\n",
        "from pygments.formatters import HtmlFormatter"
      ]
    },
    {
      "cell_type": "code",
      "execution_count": 4,
      "metadata": {},
      "outputs": [],
      "source": [
        "formatter = HtmlFormatter(style='colorful', linenos=True,wrapcode=True)"
      ]
    },
    {
      "cell_type": "code",
      "execution_count": null,
      "metadata": {},
      "outputs": [],
      "source": [
        "css_style = formatter.get_style_defs('.highlight')\n",
        "print(css_style)"
      ]
    },
    {
      "cell_type": "code",
      "execution_count": 6,
      "metadata": {},
      "outputs": [],
      "source": [
        "highlighted_code = highlight(code, PythonLexer(), formatter)"
      ]
    },
    {
      "cell_type": "code",
      "execution_count": 8,
      "metadata": {},
      "outputs": [
        {
          "name": "stdout",
          "output_type": "stream",
          "text": [
            "<div class=\"highlight\"><table class=\"highlighttable\"><tr><td class=\"linenos\"><div class=\"linenodiv\"><pre><span class=\"normal\">1</span>\n",
            "<span class=\"normal\">2</span>\n",
            "<span class=\"normal\">3</span></pre></div></td><td class=\"code\"><div><pre><span></span><code><span class=\"k\">def</span> <span class=\"nf\">greet</span><span class=\"p\">(</span><span class=\"n\">name</span><span class=\"p\">):</span>\n",
            "    <span class=\"nb\">print</span><span class=\"p\">(</span><span class=\"sa\">f</span><span class=\"s1\">&#39;Hello, </span><span class=\"si\">{</span><span class=\"n\">name</span><span class=\"si\">}</span><span class=\"s1\">!&#39;</span><span class=\"p\">)</span>\n",
            "<span class=\"n\">greet</span><span class=\"p\">(</span><span class=\"s1\">&#39;World&#39;</span><span class=\"p\">)</span>\n",
            "</code></pre></div></td></tr></table></div>\n",
            "\n"
          ]
        }
      ],
      "source": [
        "print(highlighted_code)"
      ]
    },
    {
      "cell_type": "code",
      "execution_count": 12,
      "metadata": {},
      "outputs": [
        {
          "name": "stdout",
          "output_type": "stream",
          "text": [
            "\n",
            "    <style>\n",
            "    pre { line-height: 125%; }\n",
            "td.linenos .normal { color: inherit; background-color: transparent; padding-left: 5px; padding-right: 5px; }\n",
            "span.linenos { color: inherit; background-color: transparent; padding-left: 5px; padding-right: 5px; }\n",
            "td.linenos .special { color: #000000; background-color: #ffffc0; padding-left: 5px; padding-right: 5px; }\n",
            "span.linenos.special { color: #000000; background-color: #ffffc0; padding-left: 5px; padding-right: 5px; }\n",
            ".highlight .hll { background-color: #ffffcc }\n",
            ".highlight { background: #ffffff; }\n",
            ".highlight .c { color: #888888 } /* Comment */\n",
            ".highlight .err { color: #FF0000; background-color: #FFAAAA } /* Error */\n",
            ".highlight .k { color: #008800; font-weight: bold } /* Keyword */\n",
            ".highlight .o { color: #333333 } /* Operator */\n",
            ".highlight .ch { color: #888888 } /* Comment.Hashbang */\n",
            ".highlight .cm { color: #888888 } /* Comment.Multiline */\n",
            ".highlight .cp { color: #557799 } /* Comment.Preproc */\n",
            ".highlight .cpf { color: #888888 } /* Comment.PreprocFile */\n",
            ".highlight .c1 { color: #888888 } /* Comment.Single */\n",
            ".highlight .cs { color: #cc0000; font-weight: bold } /* Comment.Special */\n",
            ".highlight .gd { color: #A00000 } /* Generic.Deleted */\n",
            ".highlight .ge { font-style: italic } /* Generic.Emph */\n",
            ".highlight .ges { font-weight: bold; font-style: italic } /* Generic.EmphStrong */\n",
            ".highlight .gr { color: #FF0000 } /* Generic.Error */\n",
            ".highlight .gh { color: #000080; font-weight: bold } /* Generic.Heading */\n",
            ".highlight .gi { color: #00A000 } /* Generic.Inserted */\n",
            ".highlight .go { color: #888888 } /* Generic.Output */\n",
            ".highlight .gp { color: #c65d09; font-weight: bold } /* Generic.Prompt */\n",
            ".highlight .gs { font-weight: bold } /* Generic.Strong */\n",
            ".highlight .gu { color: #800080; font-weight: bold } /* Generic.Subheading */\n",
            ".highlight .gt { color: #0044DD } /* Generic.Traceback */\n",
            ".highlight .kc { color: #008800; font-weight: bold } /* Keyword.Constant */\n",
            ".highlight .kd { color: #008800; font-weight: bold } /* Keyword.Declaration */\n",
            ".highlight .kn { color: #008800; font-weight: bold } /* Keyword.Namespace */\n",
            ".highlight .kp { color: #003388; font-weight: bold } /* Keyword.Pseudo */\n",
            ".highlight .kr { color: #008800; font-weight: bold } /* Keyword.Reserved */\n",
            ".highlight .kt { color: #333399; font-weight: bold } /* Keyword.Type */\n",
            ".highlight .m { color: #6600EE; font-weight: bold } /* Literal.Number */\n",
            ".highlight .s { background-color: #fff0f0 } /* Literal.String */\n",
            ".highlight .na { color: #0000CC } /* Name.Attribute */\n",
            ".highlight .nb { color: #007020 } /* Name.Builtin */\n",
            ".highlight .nc { color: #BB0066; font-weight: bold } /* Name.Class */\n",
            ".highlight .no { color: #003366; font-weight: bold } /* Name.Constant */\n",
            ".highlight .nd { color: #555555; font-weight: bold } /* Name.Decorator */\n",
            ".highlight .ni { color: #880000; font-weight: bold } /* Name.Entity */\n",
            ".highlight .ne { color: #FF0000; font-weight: bold } /* Name.Exception */\n",
            ".highlight .nf { color: #0066BB; font-weight: bold } /* Name.Function */\n",
            ".highlight .nl { color: #997700; font-weight: bold } /* Name.Label */\n",
            ".highlight .nn { color: #0e84b5; font-weight: bold } /* Name.Namespace */\n",
            ".highlight .nt { color: #007700 } /* Name.Tag */\n",
            ".highlight .nv { color: #996633 } /* Name.Variable */\n",
            ".highlight .ow { color: #000000; font-weight: bold } /* Operator.Word */\n",
            ".highlight .w { color: #bbbbbb } /* Text.Whitespace */\n",
            ".highlight .mb { color: #6600EE; font-weight: bold } /* Literal.Number.Bin */\n",
            ".highlight .mf { color: #6600EE; font-weight: bold } /* Literal.Number.Float */\n",
            ".highlight .mh { color: #005588; font-weight: bold } /* Literal.Number.Hex */\n",
            ".highlight .mi { color: #0000DD; font-weight: bold } /* Literal.Number.Integer */\n",
            ".highlight .mo { color: #4400EE; font-weight: bold } /* Literal.Number.Oct */\n",
            ".highlight .sa { background-color: #fff0f0 } /* Literal.String.Affix */\n",
            ".highlight .sb { background-color: #fff0f0 } /* Literal.String.Backtick */\n",
            ".highlight .sc { color: #0044DD } /* Literal.String.Char */\n",
            ".highlight .dl { background-color: #fff0f0 } /* Literal.String.Delimiter */\n",
            ".highlight .sd { color: #DD4422 } /* Literal.String.Doc */\n",
            ".highlight .s2 { background-color: #fff0f0 } /* Literal.String.Double */\n",
            ".highlight .se { color: #666666; font-weight: bold; background-color: #fff0f0 } /* Literal.String.Escape */\n",
            ".highlight .sh { background-color: #fff0f0 } /* Literal.String.Heredoc */\n",
            ".highlight .si { background-color: #eeeeee } /* Literal.String.Interpol */\n",
            ".highlight .sx { color: #DD2200; background-color: #fff0f0 } /* Literal.String.Other */\n",
            ".highlight .sr { color: #000000; background-color: #fff0ff } /* Literal.String.Regex */\n",
            ".highlight .s1 { background-color: #fff0f0 } /* Literal.String.Single */\n",
            ".highlight .ss { color: #AA6600 } /* Literal.String.Symbol */\n",
            ".highlight .bp { color: #007020 } /* Name.Builtin.Pseudo */\n",
            ".highlight .fm { color: #0066BB; font-weight: bold } /* Name.Function.Magic */\n",
            ".highlight .vc { color: #336699 } /* Name.Variable.Class */\n",
            ".highlight .vg { color: #dd7700; font-weight: bold } /* Name.Variable.Global */\n",
            ".highlight .vi { color: #3333BB } /* Name.Variable.Instance */\n",
            ".highlight .vm { color: #996633 } /* Name.Variable.Magic */\n",
            ".highlight .il { color: #0000DD; font-weight: bold } /* Literal.Number.Integer.Long */\n",
            "    \n",
            "span { \n",
            "        font-size:30px;\n",
            "        height:35px\n",
            "    }\n",
            "pre{\n",
            "    line-height: 1.5;\n",
            "}\n",
            ".highlight{\n",
            "    width: 500px;\n",
            "    background-color: #eeeeee;\n",
            "    border-bottom-left-radius: 1em;\n",
            "    border-bottom-right-radius: 1em;   \n",
            "}\n",
            "    \n",
            "    </style>\n",
            "    \n",
            "<div style=\"width: 500px; height: 40px; background-color: lightgray; border-radius: 1em 1em 0 0; display: flex; align-items: center; justify-content: start; gap: 10px;\">\n",
            "        <div style=\"width: 20px; height: 20px; background-color: red; border-radius: 50%; margin-left:10px\"></div>\n",
            "        <div style=\"width: 20px; height: 20px; background-color: green; border-radius: 50%;\"></div>\n",
            "        <div style=\"width: 20px; height: 20px; background-color: orange; border-radius: 50%;\"></div>\n",
            "</div>\n",
            "\n",
            "    <div class=\"highlight\"><table class=\"highlighttable\"><tr><td class=\"linenos\"><div class=\"linenodiv\"><pre><span class=\"normal\">1</span>\n",
            "<span class=\"normal\">2</span>\n",
            "<span class=\"normal\">3</span></pre></div></td><td class=\"code\"><div><pre><span></span><code><span class=\"k\">def</span> <span class=\"nf\">greet</span><span class=\"p\">(</span><span class=\"n\">name</span><span class=\"p\">):</span>\n",
            "    <span class=\"nb\">print</span><span class=\"p\">(</span><span class=\"sa\">f</span><span class=\"s1\">&#39;Hello, </span><span class=\"si\">{</span><span class=\"n\">name</span><span class=\"si\">}</span><span class=\"s1\">!&#39;</span><span class=\"p\">)</span>\n",
            "<span class=\"n\">greet</span><span class=\"p\">(</span><span class=\"s1\">&#39;World&#39;</span><span class=\"p\">)</span>\n",
            "</code></pre></div></td></tr></table></div>\n",
            "\n",
            "    \n"
          ]
        }
      ],
      "source": [
        "custom_css = \"\"\"\n",
        "span{ \n",
        "        font-size:30px;\n",
        "        height:35px\n",
        "}\n",
        "pre{\n",
        "    line-height: 1.5;\n",
        "}\n",
        ".highlight{\n",
        "    width: 500px;\n",
        "    background-color: #eeeeee;\n",
        "    border-bottom-left-radius: 1em;\n",
        "    border-bottom-right-radius: 1em;   \n",
        "}\n",
        "\"\"\"\n",
        "\n",
        "custom_html=\"\"\"\n",
        "<div style=\"width: 500px; height: 40px; background-color: lightgray; border-radius: 1em 1em 0 0; display: flex; align-items: center; justify-content: start; gap: 10px;\">\n",
        "        <div style=\"width: 20px; height: 20px; background-color: red; border-radius: 50%; margin-left:10px\"></div>\n",
        "        <div style=\"width: 20px; height: 20px; background-color: green; border-radius: 50%;\"></div>\n",
        "        <div style=\"width: 20px; height: 20px; background-color: orange; border-radius: 50%;\"></div>\n",
        "</div>\n",
        "\"\"\"\n",
        "embedded_html = f\"\"\"\n",
        "    <style>\n",
        "    {css_style}\n",
        "    {custom_css}\n",
        "    </style>\n",
        "    {custom_html}\n",
        "    {highlighted_code}\n",
        "    \"\"\"\n",
        "print(embedded_html)"
      ]
    },
    {
      "cell_type": "code",
      "execution_count": 21,
      "metadata": {},
      "outputs": [
        {
          "name": "stdout",
          "output_type": "stream",
          "text": [
            "\n",
            "    .normal,.p,.nb,.n,.s1,.sa,.k,.nf{ \n",
            "            font-size:30px;\n",
            "            height:35px;\n",
            "    }\n",
            "    pre{\n",
            "            line-height: 1.5;\n",
            "    }\n",
            "    .highlight{\n",
            "            width: 420px;\n",
            "            background-color: #eeeeee;\n",
            "            border-bottom-left-radius: 1em;\n",
            "            border-bottom-right-radius: 1em;   \n",
            "}\n",
            "    \n"
          ]
        }
      ],
      "source": [
        "MAX_CHAR = 420\n",
        "SPAN = \"\"\"\n",
        "\n",
        "\"\"\"\n",
        "CUSTOM_CSS  = f\"\"\"\n",
        "    .normal,.p,.nb,.n,.s1,.sa,.k,.nf{{ \n",
        "            font-size:30px;\n",
        "            height:35px;\n",
        "    }}\n",
        "    pre{{\n",
        "            line-height: 1.5;\n",
        "    }}\n",
        "    .highlight{{\n",
        "            width: {MAX_CHAR}px;\n",
        "            background-color: #eeeeee;\n",
        "            border-bottom-left-radius: 1em;\n",
        "            border-bottom-right-radius: 1em;   \n",
        "}}\n",
        "    \"\"\"\n",
        "print(CUSTOM_CSS)"
      ]
    },
    {
      "cell_type": "code",
      "execution_count": 7,
      "metadata": {},
      "outputs": [
        {
          "name": "stdout",
          "output_type": "stream",
          "text": [
            "rgba(78, 131, 196, 1.0)\n"
          ]
        }
      ],
      "source": [
        "import re\n",
        "from colorsys import rgb_to_hls, hls_to_rgb\n",
        "def Lighten_Color(rgba_str, factor=0.2):\n",
        "    # 使用正则表达式提取 rgba 值\n",
        "    match = re.match(r'rgba\\(([\\d.]+),\\s*([\\d.]+),\\s*([\\d.]+),\\s*([\\d.]+)\\)', rgba_str)\n",
        "    \n",
        "    r, g, b, a = map(float, match.groups())\n",
        "    \n",
        "    r, g, b = r / 255, g / 255, b / 255\n",
        "    \n",
        "    h, l, s = rgb_to_hls(r, g, b)\n",
        "    \n",
        "    l = min(1.0, l + (1.0 - l) * factor)\n",
        "\n",
        "    r, g, b = hls_to_rgb(h, l, s)\n",
        "    \n",
        "    r, g, b = int(r * 255), int(g * 255), int(b * 255)\n",
        "    \n",
        "    return f\"rgba({r}, {g}, {b}, {a})\"\n",
        "print(Lighten_Color(\"rgba(53.89648240557771, 102.96171531759313, 161.83999481201172, 1)\"))"
      ]
    },
    {
      "cell_type": "code",
      "execution_count": 6,
      "metadata": {},
      "outputs": [
        {
          "name": "stdout",
          "output_type": "stream",
          "text": [
            "Current directory: /home/ubuntu/Program/BeautifulCode/img/\n"
          ]
        }
      ],
      "source": [
        "import os\n",
        "\n",
        "current_dir = os.getcwd()+\"/img/\"\n",
        "print(\"Current directory:\", current_dir)"
      ]
    }
  ],
  "metadata": {
    "colab": {
      "provenance": []
    },
    "kernelspec": {
      "display_name": ".venv",
      "language": "python",
      "name": "python3"
    },
    "language_info": {
      "codemirror_mode": {
        "name": "ipython",
        "version": 3
      },
      "file_extension": ".py",
      "mimetype": "text/x-python",
      "name": "python",
      "nbconvert_exporter": "python",
      "pygments_lexer": "ipython3",
      "version": "3.12.3"
    }
  },
  "nbformat": 4,
  "nbformat_minor": 0
}
